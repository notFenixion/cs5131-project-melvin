{
 "cells": [
  {
   "cell_type": "markdown",
   "id": "a2479688",
   "metadata": {
    "id": "aivnid-yA_wd",
    "papermill": {
     "duration": 0.004066,
     "end_time": "2024-03-14T15:39:00.398492",
     "exception": false,
     "start_time": "2024-03-14T15:39:00.394426",
     "status": "completed"
    },
    "tags": []
   },
   "source": [
    "# Identification of Deepfaked Images (and Videos?)\n",
    "## By Li Run & Rongyi"
   ]
  },
  {
   "cell_type": "markdown",
   "id": "8a3d1ee3",
   "metadata": {
    "id": "ROLraV2PBFe3",
    "papermill": {
     "duration": 0.003405,
     "end_time": "2024-03-14T15:39:00.405830",
     "exception": false,
     "start_time": "2024-03-14T15:39:00.402425",
     "status": "completed"
    },
    "tags": []
   },
   "source": [
    "This project aims to train an AI model to be able to identify deepfaked images from real ones with an accuracy of >=XX%."
   ]
  },
  {
   "cell_type": "markdown",
   "id": "37fb8876",
   "metadata": {
    "id": "D-etTf5cCbxy",
    "papermill": {
     "duration": 0.003169,
     "end_time": "2024-03-14T15:39:00.412519",
     "exception": false,
     "start_time": "2024-03-14T15:39:00.409350",
     "status": "completed"
    },
    "tags": []
   },
   "source": [
    "## Data Collection\n",
    "\n",
    "We utilized two datasets of images for training our model:\n",
    "1. https://www.kaggle.com/datasets/manjilkarki/deepfake-and-real-images\n",
    "2. https://www.kaggle.com/datasets/dagnelies/deepfake-faces\n",
    "\n",
    "The first dataset contains approximately 70,000 training images, 5400 test images and 20,000 validation images of faces for both Real and Fake images each.\n",
    "\n",
    "The second dataset contains approximately 95,600 images of faces. Labelling of the images as real or fake can be found under `metadata.csv`."
   ]
  },
  {
   "cell_type": "markdown",
   "id": "33850fd9",
   "metadata": {
    "id": "1Rd_xm2QAvzV",
    "papermill": {
     "duration": 0.003191,
     "end_time": "2024-03-14T15:39:00.419241",
     "exception": false,
     "start_time": "2024-03-14T15:39:00.416050",
     "status": "completed"
    },
    "tags": []
   },
   "source": [
    "## Data Preprocessing"
   ]
  },
  {
   "cell_type": "markdown",
   "id": "db220c40",
   "metadata": {
    "id": "Nof6xTiWEaR1",
    "papermill": {
     "duration": 0.003416,
     "end_time": "2024-03-14T15:39:00.426197",
     "exception": false,
     "start_time": "2024-03-14T15:39:00.422781",
     "status": "completed"
    },
    "tags": []
   },
   "source": [
    "Let us first inspect the contents of `deepfake_faces`."
   ]
  },
  {
   "cell_type": "code",
   "execution_count": 1,
   "id": "db24229f",
   "metadata": {
    "execution": {
     "iopub.execute_input": "2024-03-14T15:39:00.434901Z",
     "iopub.status.busy": "2024-03-14T15:39:00.434612Z",
     "iopub.status.idle": "2024-03-14T15:39:01.244283Z",
     "shell.execute_reply": "2024-03-14T15:39:01.243537Z"
    },
    "id": "pkzydyrlhWaO",
    "papermill": {
     "duration": 0.816263,
     "end_time": "2024-03-14T15:39:01.246533",
     "exception": false,
     "start_time": "2024-03-14T15:39:00.430270",
     "status": "completed"
    },
    "tags": []
   },
   "outputs": [],
   "source": [
    "# Imports\n",
    "import pandas as pd\n",
    "import numpy as np"
   ]
  },
  {
   "cell_type": "code",
   "execution_count": 2,
   "id": "e3334867",
   "metadata": {
    "execution": {
     "iopub.execute_input": "2024-03-14T15:39:01.254768Z",
     "iopub.status.busy": "2024-03-14T15:39:01.254383Z",
     "iopub.status.idle": "2024-03-14T15:39:01.442226Z",
     "shell.execute_reply": "2024-03-14T15:39:01.441224Z"
    },
    "id": "urOb3W5fhY40",
    "outputId": "5279233e-68b7-42bb-c6b0-70cf452ebdb8",
    "papermill": {
     "duration": 0.194498,
     "end_time": "2024-03-14T15:39:01.444607",
     "exception": false,
     "start_time": "2024-03-14T15:39:01.250109",
     "status": "completed"
    },
    "tags": []
   },
   "outputs": [
    {
     "data": {
      "text/html": [
       "<div>\n",
       "<style scoped>\n",
       "    .dataframe tbody tr th:only-of-type {\n",
       "        vertical-align: middle;\n",
       "    }\n",
       "\n",
       "    .dataframe tbody tr th {\n",
       "        vertical-align: top;\n",
       "    }\n",
       "\n",
       "    .dataframe thead th {\n",
       "        text-align: right;\n",
       "    }\n",
       "</style>\n",
       "<table border=\"1\" class=\"dataframe\">\n",
       "  <thead>\n",
       "    <tr style=\"text-align: right;\">\n",
       "      <th></th>\n",
       "      <th>videoname</th>\n",
       "      <th>original_width</th>\n",
       "      <th>original_height</th>\n",
       "      <th>label</th>\n",
       "      <th>original</th>\n",
       "    </tr>\n",
       "  </thead>\n",
       "  <tbody>\n",
       "    <tr>\n",
       "      <th>0</th>\n",
       "      <td>aznyksihgl.mp4</td>\n",
       "      <td>129</td>\n",
       "      <td>129</td>\n",
       "      <td>FAKE</td>\n",
       "      <td>xnojggkrxt.mp4</td>\n",
       "    </tr>\n",
       "    <tr>\n",
       "      <th>1</th>\n",
       "      <td>gkwmalrvcj.mp4</td>\n",
       "      <td>129</td>\n",
       "      <td>129</td>\n",
       "      <td>FAKE</td>\n",
       "      <td>hqqmtxvbjj.mp4</td>\n",
       "    </tr>\n",
       "    <tr>\n",
       "      <th>2</th>\n",
       "      <td>lxnqzocgaq.mp4</td>\n",
       "      <td>223</td>\n",
       "      <td>217</td>\n",
       "      <td>FAKE</td>\n",
       "      <td>xjzkfqddyk.mp4</td>\n",
       "    </tr>\n",
       "    <tr>\n",
       "      <th>3</th>\n",
       "      <td>itsbtrrelv.mp4</td>\n",
       "      <td>186</td>\n",
       "      <td>186</td>\n",
       "      <td>FAKE</td>\n",
       "      <td>kqvepwqxfe.mp4</td>\n",
       "    </tr>\n",
       "    <tr>\n",
       "      <th>4</th>\n",
       "      <td>ddvgrczjno.mp4</td>\n",
       "      <td>155</td>\n",
       "      <td>155</td>\n",
       "      <td>FAKE</td>\n",
       "      <td>pluadmqqta.mp4</td>\n",
       "    </tr>\n",
       "  </tbody>\n",
       "</table>\n",
       "</div>"
      ],
      "text/plain": [
       "        videoname  original_width  original_height label        original\n",
       "0  aznyksihgl.mp4             129              129  FAKE  xnojggkrxt.mp4\n",
       "1  gkwmalrvcj.mp4             129              129  FAKE  hqqmtxvbjj.mp4\n",
       "2  lxnqzocgaq.mp4             223              217  FAKE  xjzkfqddyk.mp4\n",
       "3  itsbtrrelv.mp4             186              186  FAKE  kqvepwqxfe.mp4\n",
       "4  ddvgrczjno.mp4             155              155  FAKE  pluadmqqta.mp4"
      ]
     },
     "execution_count": 2,
     "metadata": {},
     "output_type": "execute_result"
    }
   ],
   "source": [
    "df = pd.read_csv('/kaggle/input/deepfake-faces/metadata.csv')\n",
    "df.head()"
   ]
  },
  {
   "cell_type": "code",
   "execution_count": 3,
   "id": "118673a5",
   "metadata": {
    "execution": {
     "iopub.execute_input": "2024-03-14T15:39:01.454691Z",
     "iopub.status.busy": "2024-03-14T15:39:01.454384Z",
     "iopub.status.idle": "2024-03-14T15:39:01.478754Z",
     "shell.execute_reply": "2024-03-14T15:39:01.477924Z"
    },
    "id": "gH6n-ZA3U-ZF",
    "outputId": "c0e0d2f2-f4fe-4a03-cb7f-288fd559093b",
    "papermill": {
     "duration": 0.031391,
     "end_time": "2024-03-14T15:39:01.480600",
     "exception": false,
     "start_time": "2024-03-14T15:39:01.449209",
     "status": "completed"
    },
    "tags": []
   },
   "outputs": [
    {
     "data": {
      "text/plain": [
       "label\n",
       "FAKE    79341\n",
       "REAL    16293\n",
       "Name: count, dtype: int64"
      ]
     },
     "execution_count": 3,
     "metadata": {},
     "output_type": "execute_result"
    }
   ],
   "source": [
    "df['label'].value_counts()"
   ]
  },
  {
   "cell_type": "markdown",
   "id": "894cc9e9",
   "metadata": {
    "id": "MaqzHZShW2H1",
    "papermill": {
     "duration": 0.003723,
     "end_time": "2024-03-14T15:39:01.488233",
     "exception": false,
     "start_time": "2024-03-14T15:39:01.484510",
     "status": "completed"
    },
    "tags": []
   },
   "source": [
    "From here we can see that the Fake:Real ratio in `deepfake_faces` is about 5:1.\n",
    "\n"
   ]
  },
  {
   "cell_type": "code",
   "execution_count": null,
   "id": "b6502ef7",
   "metadata": {
    "id": "ToXxGrBmW1ld",
    "papermill": {
     "duration": 0.003698,
     "end_time": "2024-03-14T15:39:01.495914",
     "exception": false,
     "start_time": "2024-03-14T15:39:01.492216",
     "status": "completed"
    },
    "tags": []
   },
   "outputs": [],
   "source": []
  },
  {
   "cell_type": "markdown",
   "id": "af54b1b7",
   "metadata": {
    "id": "UFcL8HOQJWsO",
    "papermill": {
     "duration": 0.003614,
     "end_time": "2024-03-14T15:39:01.503310",
     "exception": false,
     "start_time": "2024-03-14T15:39:01.499696",
     "status": "completed"
    },
    "tags": []
   },
   "source": [
    "Next, we will organize the data into their appropriate categories before splitting them into training and test/validation data.\n",
    "\n",
    "This is achieved by splitting the images from `deepfake_faces` into training & test sets first, and then adding on the images from `sample_data` since those have already been categorised for us."
   ]
  },
  {
   "cell_type": "code",
   "execution_count": null,
   "id": "2203b87b",
   "metadata": {
    "id": "g2wYPQ-LU61m",
    "papermill": {
     "duration": 0.003705,
     "end_time": "2024-03-14T15:39:01.511122",
     "exception": false,
     "start_time": "2024-03-14T15:39:01.507417",
     "status": "completed"
    },
    "tags": []
   },
   "outputs": [],
   "source": []
  }
 ],
 "metadata": {
  "colab": {
   "authorship_tag": "ABX9TyNiH+w4lMX2cLW90N81OzR9",
   "include_colab_link": true,
   "provenance": []
  },
  "kaggle": {
   "accelerator": "nvidiaTeslaT4",
   "dataSources": [
    {
     "datasetId": 1909705,
     "sourceId": 3134515,
     "sourceType": "datasetVersion"
    },
    {
     "datasetId": 464091,
     "sourceId": 924245,
     "sourceType": "datasetVersion"
    }
   ],
   "dockerImageVersionId": 30665,
   "isGpuEnabled": true,
   "isInternetEnabled": true,
   "language": "python",
   "sourceType": "notebook"
  },
  "kernelspec": {
   "display_name": "Python 3",
   "language": "python",
   "name": "python3"
  },
  "language_info": {
   "codemirror_mode": {
    "name": "ipython",
    "version": 3
   },
   "file_extension": ".py",
   "mimetype": "text/x-python",
   "name": "python",
   "nbconvert_exporter": "python",
   "pygments_lexer": "ipython3",
   "version": "3.10.13"
  },
  "papermill": {
   "default_parameters": {},
   "duration": 4.399894,
   "end_time": "2024-03-14T15:39:01.833423",
   "environment_variables": {},
   "exception": null,
   "input_path": "__notebook__.ipynb",
   "output_path": "__notebook__.ipynb",
   "parameters": {},
   "start_time": "2024-03-14T15:38:57.433529",
   "version": "2.5.0"
  }
 },
 "nbformat": 4,
 "nbformat_minor": 5
}
