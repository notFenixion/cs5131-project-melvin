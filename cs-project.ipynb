{
 "cells": [
  {
   "cell_type": "markdown",
   "id": "4c66f2be",
   "metadata": {
    "id": "view-in-github",
    "papermill": {
     "duration": 0.004579,
     "end_time": "2024-03-14T15:36:14.828760",
     "exception": false,
     "start_time": "2024-03-14T15:36:14.824181",
     "status": "completed"
    },
    "tags": []
   },
   "source": [
    "<a href=\"https://colab.research.google.com/github/notFenixion/too-poor-to-win/blob/ryi/CS_Project.ipynb\" target=\"_parent\"><img src=\"https://colab.research.google.com/assets/colab-badge.svg\" alt=\"Open In Colab\"/></a>"
   ]
  },
  {
   "cell_type": "markdown",
   "id": "48498605",
   "metadata": {
    "id": "aivnid-yA_wd",
    "papermill": {
     "duration": 0.003443,
     "end_time": "2024-03-14T15:36:14.836154",
     "exception": false,
     "start_time": "2024-03-14T15:36:14.832711",
     "status": "completed"
    },
    "tags": []
   },
   "source": [
    "# Identification of Deepfaked Images (and Videos?)\n",
    "## By Li Run & Rongyi"
   ]
  },
  {
   "cell_type": "markdown",
   "id": "26d8c1c6",
   "metadata": {
    "id": "ROLraV2PBFe3",
    "papermill": {
     "duration": 0.003377,
     "end_time": "2024-03-14T15:36:14.843021",
     "exception": false,
     "start_time": "2024-03-14T15:36:14.839644",
     "status": "completed"
    },
    "tags": []
   },
   "source": [
    "This project aims to train an AI model to be able to identify deepfaked images from real ones with an accuracy of >=XX%."
   ]
  },
  {
   "cell_type": "markdown",
   "id": "4b224a5c",
   "metadata": {
    "id": "D-etTf5cCbxy",
    "papermill": {
     "duration": 0.003244,
     "end_time": "2024-03-14T15:36:14.849876",
     "exception": false,
     "start_time": "2024-03-14T15:36:14.846632",
     "status": "completed"
    },
    "tags": []
   },
   "source": [
    "## Data Collection\n",
    "\n",
    "We utilized two datasets of images for training our model:\n",
    "1. https://www.kaggle.com/datasets/manjilkarki/deepfake-and-real-images\n",
    "2. https://www.kaggle.com/datasets/dagnelies/deepfake-faces\n",
    "\n",
    "The first dataset contains approximately 70,000 training images, 5400 test images and 20,000 validation images of faces for both Real and Fake images each.\n",
    "\n",
    "The second dataset contains approximately 95,600 images of faces. Labelling of the images as real or fake can be found under `metadata.csv`."
   ]
  },
  {
   "cell_type": "markdown",
   "id": "0c29c4b0",
   "metadata": {
    "id": "1Rd_xm2QAvzV",
    "papermill": {
     "duration": 0.003665,
     "end_time": "2024-03-14T15:36:14.857146",
     "exception": false,
     "start_time": "2024-03-14T15:36:14.853481",
     "status": "completed"
    },
    "tags": []
   },
   "source": [
    "## Data Preprocessing"
   ]
  },
  {
   "cell_type": "markdown",
   "id": "291b708b",
   "metadata": {
    "id": "Nof6xTiWEaR1",
    "papermill": {
     "duration": 0.003367,
     "end_time": "2024-03-14T15:36:14.864382",
     "exception": false,
     "start_time": "2024-03-14T15:36:14.861015",
     "status": "completed"
    },
    "tags": []
   },
   "source": [
    "Let us first inspect the contents of `deepfake_faces`."
   ]
  },
  {
   "cell_type": "code",
   "execution_count": 1,
   "id": "d97045e7",
   "metadata": {
    "execution": {
     "iopub.execute_input": "2024-03-14T15:36:14.873480Z",
     "iopub.status.busy": "2024-03-14T15:36:14.872779Z",
     "iopub.status.idle": "2024-03-14T15:36:16.058332Z",
     "shell.execute_reply": "2024-03-14T15:36:16.057250Z"
    },
    "id": "pkzydyrlhWaO",
    "papermill": {
     "duration": 1.192972,
     "end_time": "2024-03-14T15:36:16.060975",
     "exception": false,
     "start_time": "2024-03-14T15:36:14.868003",
     "status": "completed"
    },
    "tags": []
   },
   "outputs": [],
   "source": [
    "# Imports\n",
    "import pandas as pd\n",
    "import numpy as np"
   ]
  },
  {
   "cell_type": "code",
   "execution_count": 2,
   "id": "3c28ca1d",
   "metadata": {
    "execution": {
     "iopub.execute_input": "2024-03-14T15:36:16.071354Z",
     "iopub.status.busy": "2024-03-14T15:36:16.070597Z",
     "iopub.status.idle": "2024-03-14T15:36:16.302422Z",
     "shell.execute_reply": "2024-03-14T15:36:16.301446Z"
    },
    "id": "urOb3W5fhY40",
    "outputId": "5279233e-68b7-42bb-c6b0-70cf452ebdb8",
    "papermill": {
     "duration": 0.239276,
     "end_time": "2024-03-14T15:36:16.304807",
     "exception": false,
     "start_time": "2024-03-14T15:36:16.065531",
     "status": "completed"
    },
    "tags": []
   },
   "outputs": [
    {
     "data": {
      "text/html": [
       "<div>\n",
       "<style scoped>\n",
       "    .dataframe tbody tr th:only-of-type {\n",
       "        vertical-align: middle;\n",
       "    }\n",
       "\n",
       "    .dataframe tbody tr th {\n",
       "        vertical-align: top;\n",
       "    }\n",
       "\n",
       "    .dataframe thead th {\n",
       "        text-align: right;\n",
       "    }\n",
       "</style>\n",
       "<table border=\"1\" class=\"dataframe\">\n",
       "  <thead>\n",
       "    <tr style=\"text-align: right;\">\n",
       "      <th></th>\n",
       "      <th>videoname</th>\n",
       "      <th>original_width</th>\n",
       "      <th>original_height</th>\n",
       "      <th>label</th>\n",
       "      <th>original</th>\n",
       "    </tr>\n",
       "  </thead>\n",
       "  <tbody>\n",
       "    <tr>\n",
       "      <th>0</th>\n",
       "      <td>aznyksihgl.mp4</td>\n",
       "      <td>129</td>\n",
       "      <td>129</td>\n",
       "      <td>FAKE</td>\n",
       "      <td>xnojggkrxt.mp4</td>\n",
       "    </tr>\n",
       "    <tr>\n",
       "      <th>1</th>\n",
       "      <td>gkwmalrvcj.mp4</td>\n",
       "      <td>129</td>\n",
       "      <td>129</td>\n",
       "      <td>FAKE</td>\n",
       "      <td>hqqmtxvbjj.mp4</td>\n",
       "    </tr>\n",
       "    <tr>\n",
       "      <th>2</th>\n",
       "      <td>lxnqzocgaq.mp4</td>\n",
       "      <td>223</td>\n",
       "      <td>217</td>\n",
       "      <td>FAKE</td>\n",
       "      <td>xjzkfqddyk.mp4</td>\n",
       "    </tr>\n",
       "    <tr>\n",
       "      <th>3</th>\n",
       "      <td>itsbtrrelv.mp4</td>\n",
       "      <td>186</td>\n",
       "      <td>186</td>\n",
       "      <td>FAKE</td>\n",
       "      <td>kqvepwqxfe.mp4</td>\n",
       "    </tr>\n",
       "    <tr>\n",
       "      <th>4</th>\n",
       "      <td>ddvgrczjno.mp4</td>\n",
       "      <td>155</td>\n",
       "      <td>155</td>\n",
       "      <td>FAKE</td>\n",
       "      <td>pluadmqqta.mp4</td>\n",
       "    </tr>\n",
       "  </tbody>\n",
       "</table>\n",
       "</div>"
      ],
      "text/plain": [
       "        videoname  original_width  original_height label        original\n",
       "0  aznyksihgl.mp4             129              129  FAKE  xnojggkrxt.mp4\n",
       "1  gkwmalrvcj.mp4             129              129  FAKE  hqqmtxvbjj.mp4\n",
       "2  lxnqzocgaq.mp4             223              217  FAKE  xjzkfqddyk.mp4\n",
       "3  itsbtrrelv.mp4             186              186  FAKE  kqvepwqxfe.mp4\n",
       "4  ddvgrczjno.mp4             155              155  FAKE  pluadmqqta.mp4"
      ]
     },
     "execution_count": 2,
     "metadata": {},
     "output_type": "execute_result"
    }
   ],
   "source": [
    "df = pd.read_csv('/kaggle/input/deepfake-faces/metadata.csv')\n",
    "df.head()"
   ]
  },
  {
   "cell_type": "code",
   "execution_count": 3,
   "id": "1ea61851",
   "metadata": {
    "execution": {
     "iopub.execute_input": "2024-03-14T15:36:16.316016Z",
     "iopub.status.busy": "2024-03-14T15:36:16.315723Z",
     "iopub.status.idle": "2024-03-14T15:36:16.344460Z",
     "shell.execute_reply": "2024-03-14T15:36:16.343595Z"
    },
    "id": "gH6n-ZA3U-ZF",
    "outputId": "c0e0d2f2-f4fe-4a03-cb7f-288fd559093b",
    "papermill": {
     "duration": 0.036381,
     "end_time": "2024-03-14T15:36:16.346400",
     "exception": false,
     "start_time": "2024-03-14T15:36:16.310019",
     "status": "completed"
    },
    "tags": []
   },
   "outputs": [
    {
     "data": {
      "text/plain": [
       "label\n",
       "FAKE    79341\n",
       "REAL    16293\n",
       "Name: count, dtype: int64"
      ]
     },
     "execution_count": 3,
     "metadata": {},
     "output_type": "execute_result"
    }
   ],
   "source": [
    "df['label'].value_counts()"
   ]
  },
  {
   "cell_type": "markdown",
   "id": "9ed63688",
   "metadata": {
    "id": "MaqzHZShW2H1",
    "papermill": {
     "duration": 0.0037,
     "end_time": "2024-03-14T15:36:16.354149",
     "exception": false,
     "start_time": "2024-03-14T15:36:16.350449",
     "status": "completed"
    },
    "tags": []
   },
   "source": [
    "From here we can see that the Fake:Real ratio in `deepfake_faces` is about 5:1.\n",
    "\n"
   ]
  },
  {
   "cell_type": "code",
   "execution_count": null,
   "id": "b271578b",
   "metadata": {
    "id": "ToXxGrBmW1ld",
    "papermill": {
     "duration": 0.003837,
     "end_time": "2024-03-14T15:36:16.362074",
     "exception": false,
     "start_time": "2024-03-14T15:36:16.358237",
     "status": "completed"
    },
    "tags": []
   },
   "outputs": [],
   "source": []
  },
  {
   "cell_type": "markdown",
   "id": "7bfe6d12",
   "metadata": {
    "id": "UFcL8HOQJWsO",
    "papermill": {
     "duration": 0.003693,
     "end_time": "2024-03-14T15:36:16.369783",
     "exception": false,
     "start_time": "2024-03-14T15:36:16.366090",
     "status": "completed"
    },
    "tags": []
   },
   "source": [
    "Next, we will organize the data into their appropriate categories before splitting them into training and test/validation data.\n",
    "\n",
    "This is achieved by splitting the images from `deepfake_faces` into training & test sets first, and then adding on the images from `sample_data` since those have already been categorised for us."
   ]
  },
  {
   "cell_type": "code",
   "execution_count": null,
   "id": "2a80645b",
   "metadata": {
    "id": "g2wYPQ-LU61m",
    "papermill": {
     "duration": 0.003774,
     "end_time": "2024-03-14T15:36:16.377411",
     "exception": false,
     "start_time": "2024-03-14T15:36:16.373637",
     "status": "completed"
    },
    "tags": []
   },
   "outputs": [],
   "source": []
  }
 ],
 "metadata": {
  "colab": {
   "authorship_tag": "ABX9TyNiH+w4lMX2cLW90N81OzR9",
   "include_colab_link": true,
   "provenance": []
  },
  "kaggle": {
   "accelerator": "nvidiaTeslaT4",
   "dataSources": [
    {
     "datasetId": 1909705,
     "sourceId": 3134515,
     "sourceType": "datasetVersion"
    },
    {
     "datasetId": 464091,
     "sourceId": 924245,
     "sourceType": "datasetVersion"
    }
   ],
   "dockerImageVersionId": 30665,
   "isGpuEnabled": true,
   "isInternetEnabled": true,
   "language": "python",
   "sourceType": "notebook"
  },
  "kernelspec": {
   "display_name": "Python 3",
   "language": "python",
   "name": "python3"
  },
  "language_info": {
   "codemirror_mode": {
    "name": "ipython",
    "version": 3
   },
   "file_extension": ".py",
   "mimetype": "text/x-python",
   "name": "python",
   "nbconvert_exporter": "python",
   "pygments_lexer": "ipython3",
   "version": "3.10.13"
  },
  "papermill": {
   "default_parameters": {},
   "duration": 5.824623,
   "end_time": "2024-03-14T15:36:16.698263",
   "environment_variables": {},
   "exception": null,
   "input_path": "__notebook__.ipynb",
   "output_path": "__notebook__.ipynb",
   "parameters": {},
   "start_time": "2024-03-14T15:36:10.873640",
   "version": "2.5.0"
  }
 },
 "nbformat": 4,
 "nbformat_minor": 5
}
